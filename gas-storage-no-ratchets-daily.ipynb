{
 "cells": [
  {
   "cell_type": "code",
   "execution_count": 34,
   "metadata": {},
   "outputs": [],
   "source": [
    "import matplotlib.pyplot as plt\n",
    "import pandas as pd\n",
    "import pulp"
   ]
  },
  {
   "cell_type": "code",
   "execution_count": 35,
   "metadata": {},
   "outputs": [],
   "source": [
    "curve = [\n",
    "    \"Apr'21\", 2.921,\n",
    "    \"May'21\", 2.892,\n",
    "    \"Jun'21\", 2.922,\n",
    "    \"Jul'21\", 2.96,\n",
    "    \"Aug'21\", 2.974,\n",
    "    \"Sep'21\", 2.966,\n",
    "    \"Oct'21\", 3.007,\n",
    "    \"Nov'21\", 3.07,\n",
    "    \"Dec'21\", 3.203,\n",
    "    \"Jan'22\", 3.294,\n",
    "    \"Feb'22\", 3.216,\n",
    "    \"Mar'22\", 3.03,\n",
    "    \"Apr'22\", 2.568,\n",
    "    \"May'22\", 2.48,\n",
    "    \"Jun'22\", 2.525,\n",
    "    \"Jul'22\", 2.562,\n",
    "    \"Aug'22\", 2.57,\n",
    "    \"Sep'22\", 2.559,\n",
    "    \"Oct'22\", 2.592,\n",
    "    \"Nov'22\", 2.681,\n",
    "    \"Dec'22\", 2.87,\n",
    "    \"Jan'23\", 2.987,\n",
    "    \"Feb'23\", 2.939,\n",
    "    \"Mar'23\", 2.779,\n",
    "    \"Apr'23\", 2.388\n",
    "]"
   ]
  },
  {
   "cell_type": "code",
   "execution_count": 36,
   "metadata": {},
   "outputs": [],
   "source": [
    "df = pd.DataFrame( data={ 'Contract': curve[0::2], 'Price': curve[1::2]})"
   ]
  },
  {
   "cell_type": "code",
   "execution_count": 37,
   "metadata": {},
   "outputs": [
    {
     "data": {
      "text/plain": [
       "<AxesSubplot:xlabel='Contract'>"
      ]
     },
     "execution_count": 37,
     "metadata": {},
     "output_type": "execute_result"
    },
    {
     "data": {
      "image/png": "[encoded data removed]",
      "text/plain": [
       "<Figure size 432x288 with 1 Axes>"
      ]
     },
     "metadata": {
      "needs_background": "light"
     },
     "output_type": "display_data"
    }
   ],
   "source": [
    "df.plot(x='Contract', y='Price')"
   ]
  },
  {
   "cell_type": "code",
   "execution_count": 46,
   "metadata": {},
   "outputs": [],
   "source": [
    "N=3 # number of months to use\n",
    "max_storage_capacity=100000\n",
    "max_daily_injection=pd.DataFrame(data=[(0,8000),(0.5,8000),(0.5001,8000),(1.0,8000)], columns=['ratchet', 'mdiq'] )\n",
    "max_daily_withdrawal=pd.DataFrame( data=[(0,9000),(0.5,9000),(0.5001,9000),(1.0,9000)], columns=['ratchet', 'mdwq'] )"
   ]
  },
  {
   "cell_type": "code",
   "execution_count": 47,
   "metadata": {},
   "outputs": [
    {
     "data": {
      "text/plain": [
       "<AxesSubplot:xlabel='ratchet'>"
      ]
     },
     "execution_count": 47,
     "metadata": {},
     "output_type": "execute_result"
    },
    {
     "data": {
      "image/png": "[encoded data removed]",
      "text/plain": [
       "<Figure size 432x288 with 1 Axes>"
      ]
     },
     "metadata": {
      "needs_background": "light"
     },
     "output_type": "display_data"
    },
    {
     "data": {
      "image/png": "[encoded data removed]",
      "text/plain": [
       "<Figure size 432x288 with 1 Axes>"
      ]
     },
     "metadata": {
      "needs_background": "light"
     },
     "output_type": "display_data"
    }
   ],
   "source": [
    "max_daily_injection.plot(x='ratchet',y='mdiq', style='g-')\n",
    "max_daily_withdrawal.plot(x='ratchet',y='mdwq',style='b-')"
   ]
  },
  {
   "cell_type": "code",
   "execution_count": 67,
   "metadata": {},
   "outputs": [],
   "source": [
    "# injection / withdrawal quantities\n",
    "I=[None]*N\n",
    "W=[None]*N\n",
    "for i in range(N):\n",
    "    I[i] = pulp.LpVariable(f'I_{i}', lowBound=0, cat='Integer')\n",
    "    W[i] = pulp.LpVariable(f'W_{i}', lowBound=0, cat='Integer')    "
   ]
  },
  {
   "cell_type": "code",
   "execution_count": 68,
   "metadata": {},
   "outputs": [],
   "source": [
    "# number of days in each injection / drawing month\n",
    "days = list( map( lambda x: ((x+pd.DateOffset(months=1))-x).days, df.Contract.apply( lambda x: pd.to_datetime( '1-' + x ))))\n",
    "days[0] = 2\n",
    "days[1] = 2\n",
    "days[2] = 2\n",
    "\n",
    "# number of calendar days in the simulation\n",
    "M = sum( days[0:N])\n",
    "\n",
    "prices = list(df.Price)"
   ]
  },
  {
   "cell_type": "code",
   "execution_count": 69,
   "metadata": {},
   "outputs": [],
   "source": [
    "injection_charges=[None]*N\n",
    "total_injection=[None]*N\n",
    "daily_injection=[None]*M\n",
    "\n",
    "# for each injection month\n",
    "for i in range(N):\n",
    "    total_injection[i] = I[i]*10000\n",
    "    injection_charges[i] = -total_injection[i] * prices[i]\n",
    "    \n",
    "for i in range(N):\n",
    "    lb = sum(days[0:i])\n",
    "    ub = sum(days[:i+1])\n",
    "    daily_injection[lb:ub] = [ total_injection[i] / days[i] ] * days[i]\n",
    "\n",
    "withdrawal_credit=[None]*N\n",
    "total_draw=[None]*N\n",
    "daily_draw=[None]*M\n",
    "\n",
    "# for each drawing month\n",
    "for j in range(N):\n",
    "    total_draw[j] = W[j]*10000\n",
    "    withdrawal_credit[j] = total_draw[j] * prices[j]\n",
    "    \n",
    "for i in range(N):\n",
    "    lb = sum(days[0:i])\n",
    "    ub = sum(days[:i+1])\n",
    "    daily_draw[lb:ub]  = [ total_draw[i] / days[i] ] * days[i]\n",
    "\n",
    "daily_storage=[None]*M\n",
    "for i in range(M):\n",
    "    if i == 0:\n",
    "        daily_storage[i] = daily_injection[i] - daily_draw[i]\n",
    "    else:\n",
    "        daily_storage[i] = daily_injection[i] - daily_draw[i] + daily_storage[i-1]"
   ]
  },
  {
   "cell_type": "code",
   "execution_count": 70,
   "metadata": {},
   "outputs": [],
   "source": [
    "storage_value_lp = pulp.LpProblem(\"NoRatchetsDaily\", pulp.LpMaximize)\n",
    "\n",
    "# target function\n",
    "storage_value_lp += pulp.lpSum(withdrawal_credit) + pulp.lpSum(injection_charges)\n",
    "\n",
    "# add constraints\n",
    "for i in range(M):\n",
    "    storage_value_lp += daily_storage[i] >= 0\n",
    "    storage_value_lp += daily_storage[i] <= max_storage_capacity\n",
    "    \n",
    "# storage is empty on day 0\n",
    "storage_value_lp += daily_injection[0] <= max_daily_injection.loc[0, 'mdiq']\n",
    "storage_value_lp += daily_draw[0] <= max_daily_withdrawal.loc[ 0, 'mdwq']\n",
    "\n",
    "for i in range(M-1):\n",
    "    storage_value_lp += daily_injection[i+1] <= max_daily_injection.loc[0, 'mdiq']\n",
    "    storage_value_lp += daily_draw[i+1] <= max_daily_withdrawal.loc[ 0, 'mdwq']\n",
    "    \n",
    "# ensure that storage on last day is empty\n",
    "storage_value_lp += daily_storage[M-1] == 0"
   ]
  },
  {
   "cell_type": "code",
   "execution_count": 71,
   "metadata": {},
   "outputs": [
    {
     "data": {
      "text/plain": [
       "'Optimal'"
      ]
     },
     "execution_count": 71,
     "metadata": {},
     "output_type": "execute_result"
    }
   ],
   "source": [
    "storage_value_lp.solve()\n",
    "pulp.LpStatus[storage_value_lp.status]"
   ]
  },
  {
   "cell_type": "code",
   "execution_count": 72,
   "metadata": {},
   "outputs": [
    {
     "name": "stdout",
     "output_type": "stream",
     "text": [
      "I_0 = 1.0\n",
      "I_1 = 1.0\n",
      "W_0 = 1.0\n",
      "W_2 = 1.0\n"
     ]
    }
   ],
   "source": [
    "for variable in storage_value_lp.variables():\n",
    "    if variable.varValue != 0.0:\n",
    "        print( \"{} = {}\".format(variable.name, variable.varValue) )"
   ]
  },
  {
   "cell_type": "code",
   "execution_count": 73,
   "metadata": {},
   "outputs": [
    {
     "name": "stdout",
     "output_type": "stream",
     "text": [
      "300.0\n"
     ]
    }
   ],
   "source": [
    "print( pulp.value(storage_value_lp.objective) )"
   ]
  },
  {
   "cell_type": "code",
   "execution_count": 65,
   "metadata": {},
   "outputs": [],
   "source": [
    "df_result = pd.DataFrame( data=map(lambda x: pulp.value(x), daily_storage), columns=['Gas in Storge'] )"
   ]
  },
  {
   "cell_type": "code",
   "execution_count": 33,
   "metadata": {},
   "outputs": [
    {
     "data": {
      "text/plain": [
       "<AxesSubplot:>"
      ]
     },
     "execution_count": 33,
     "metadata": {},
     "output_type": "execute_result"
    },
    {
     "data": {
      "image/png": "[encoded data removed]",
      "text/plain": [
       "<Figure size 432x288 with 1 Axes>"
      ]
     },
     "metadata": {
      "needs_background": "light"
     },
     "output_type": "display_data"
    }
   ],
   "source": [
    "df_result.plot()"
   ]
  },
  {
   "cell_type": "code",
   "execution_count": 66,
   "metadata": {},
   "outputs": [
    {
     "data": {
      "text/plain": [
       "NoRatchetsDaily:\n",
       "MAXIMIZE\n",
       "-29210.0*I_0_ + -28920.0*I_1_ + -29220.0*I_2_ + 29210.0*W_0_ + 28920.0*W_1_ + 29220.0*W_2_ + 0.0\n",
       "SUBJECT TO\n",
       "_C1: 5000 I_0_ - 5000 W_0_ >= 0\n",
       "\n",
       "_C2: 5000 I_0_ - 5000 W_0_ <= 100000\n",
       "\n",
       "_C3: 10000 I_0_ - 10000 W_0_ >= 0\n",
       "\n",
       "_C4: 10000 I_0_ - 10000 W_0_ <= 100000\n",
       "\n",
       "_C5: 10000 I_0_ + 5000 I_1_ - 10000 W_0_ - 5000 W_1_ >= 0\n",
       "\n",
       "_C6: 10000 I_0_ + 5000 I_1_ - 10000 W_0_ - 5000 W_1_ <= 100000\n",
       "\n",
       "_C7: 10000 I_0_ + 10000 I_1_ - 10000 W_0_ - 10000 W_1_ >= 0\n",
       "\n",
       "_C8: 10000 I_0_ + 10000 I_1_ - 10000 W_0_ - 10000 W_1_ <= 100000\n",
       "\n",
       "_C9: 10000 I_0_ + 10000 I_1_ + 5000 I_2_ - 10000 W_0_ - 10000 W_1_ - 5000 W_2_\n",
       " >= 0\n",
       "\n",
       "_C10: 10000 I_0_ + 10000 I_1_ + 5000 I_2_ - 10000 W_0_ - 10000 W_1_\n",
       " - 5000 W_2_ <= 100000\n",
       "\n",
       "_C11: 10000 I_0_ + 10000 I_1_ + 10000 I_2_ - 10000 W_0_ - 10000 W_1_\n",
       " - 10000 W_2_ >= 0\n",
       "\n",
       "_C12: 10000 I_0_ + 10000 I_1_ + 10000 I_2_ - 10000 W_0_ - 10000 W_1_\n",
       " - 10000 W_2_ <= 100000\n",
       "\n",
       "_C13: 5000 I_0_ <= 8000\n",
       "\n",
       "_C14: 5000 W_0_ <= 9000\n",
       "\n",
       "_C15: 5000 I_0_ <= 8000\n",
       "\n",
       "_C16: 5000 W_0_ <= 9000\n",
       "\n",
       "_C17: 5000 I_1_ <= 8000\n",
       "\n",
       "_C18: 5000 W_1_ <= 9000\n",
       "\n",
       "_C19: 5000 I_1_ <= 8000\n",
       "\n",
       "_C20: 5000 W_1_ <= 9000\n",
       "\n",
       "_C21: 5000 I_2_ <= 8000\n",
       "\n",
       "_C22: 5000 W_2_ <= 9000\n",
       "\n",
       "_C23: 5000 I_2_ <= 8000\n",
       "\n",
       "_C24: 5000 W_2_ <= 9000\n",
       "\n",
       "_C25: 10000 I_0_ + 10000 I_1_ + 10000 I_2_ - 10000 W_0_ - 10000 W_1_\n",
       " - 10000 W_2_ = 0\n",
       "\n",
       "VARIABLES\n",
       "0 <= I_0_ Integer\n",
       "0 <= I_1_ Integer\n",
       "0 <= I_2_ Integer\n",
       "0 <= W_0_ Integer\n",
       "0 <= W_1_ Integer\n",
       "0 <= W_2_ Integer"
      ]
     },
     "execution_count": 66,
     "metadata": {},
     "output_type": "execute_result"
    }
   ],
   "source": [
    "storage_value_lp"
   ]
  },
  {
   "cell_type": "code",
   "execution_count": null,
   "metadata": {},
   "outputs": [],
   "source": []
  }
 ],
 "metadata": {
  "kernelspec": {
   "display_name": "Python 3",
   "language": "python",
   "name": "python3"
  },
  "language_info": {
   "codemirror_mode": {
    "name": "ipython",
    "version": 3
   },
   "file_extension": ".py",
   "mimetype": "text/x-python",
   "name": "python",
   "nbconvert_exporter": "python",
   "pygments_lexer": "ipython3",
   "version": "3.6.9"
  }
 },
 "nbformat": 4,
 "nbformat_minor": 4
}
