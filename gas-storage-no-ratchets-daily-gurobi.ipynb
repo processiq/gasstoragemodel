{
 "cells": [
  {
   "cell_type": "code",
   "execution_count": 1,
   "metadata": {},
   "outputs": [],
   "source": [
    "import matplotlib.pyplot as plt\n",
    "import pandas as pd\n",
    "import gurobipy as gp\n",
    "from gurobipy import GRB"
   ]
  },
  {
   "cell_type": "code",
   "execution_count": 2,
   "metadata": {},
   "outputs": [],
   "source": [
    "curve = [\n",
    "    \"Apr'21\", 2.921,\n",
    "    \"May'21\", 2.892,\n",
    "    \"Jun'21\", 2.922,\n",
    "    \"Jul'21\", 2.96,\n",
    "    \"Aug'21\", 2.974,\n",
    "    \"Sep'21\", 2.966,\n",
    "    \"Oct'21\", 3.007,\n",
    "    \"Nov'21\", 3.07,\n",
    "    \"Dec'21\", 3.203,\n",
    "    \"Jan'22\", 3.294,\n",
    "    \"Feb'22\", 3.216,\n",
    "    \"Mar'22\", 3.03,\n",
    "    \"Apr'22\", 2.568,\n",
    "    \"May'22\", 2.48,\n",
    "    \"Jun'22\", 2.525,\n",
    "    \"Jul'22\", 2.562,\n",
    "    \"Aug'22\", 2.57,\n",
    "    \"Sep'22\", 2.559,\n",
    "    \"Oct'22\", 2.592,\n",
    "    \"Nov'22\", 2.681,\n",
    "    \"Dec'22\", 2.87,\n",
    "    \"Jan'23\", 2.987,\n",
    "    \"Feb'23\", 2.939,\n",
    "    \"Mar'23\", 2.779,\n",
    "    \"Apr'23\", 2.388\n",
    "]"
   ]
  },
  {
   "cell_type": "code",
   "execution_count": 3,
   "metadata": {},
   "outputs": [],
   "source": [
    "df = pd.DataFrame( data={ 'Contract': curve[0::2], 'Price': curve[1::2]})"
   ]
  },
  {
   "cell_type": "code",
   "execution_count": 4,
   "metadata": {},
   "outputs": [
    {
     "name": "stderr",
     "output_type": "stream",
     "text": [
      "/home/marcino/.local/lib/python3.8/site-packages/pandas/plotting/_matplotlib/core.py:1235: UserWarning: FixedFormatter should only be used together with FixedLocator\n",
      "  ax.set_xticklabels(xticklabels)\n"
     ]
    },
    {
     "data": {
      "text/plain": [
       "<AxesSubplot:xlabel='Contract'>"
      ]
     },
     "execution_count": 4,
     "metadata": {},
     "output_type": "execute_result"
    },
    {
     "data": {
      "image/png": "[encoded data removed]",
      "text/plain": [
       "<Figure size 432x288 with 1 Axes>"
      ]
     },
     "metadata": {
      "needs_background": "light"
     },
     "output_type": "display_data"
    }
   ],
   "source": [
    "df.plot(x='Contract', y='Price')"
   ]
  },
  {
   "cell_type": "code",
   "execution_count": 5,
   "metadata": {},
   "outputs": [],
   "source": [
    "N=3 # number of months to use\n",
    "max_storage_capacity=100000\n",
    "max_daily_injection=pd.DataFrame(data=[(0,8000),(0.5,8000),(0.5001,8000),(1.0,8000)], columns=['ratchet', 'mdiq'] )\n",
    "max_daily_withdrawal=pd.DataFrame( data=[(0,9000),(0.5,9000),(0.5001,9000),(1.0,9000)], columns=['ratchet', 'mdwq'] )"
   ]
  },
  {
   "cell_type": "code",
   "execution_count": 6,
   "metadata": {},
   "outputs": [
    {
     "data": {
      "text/plain": [
       "<AxesSubplot:xlabel='ratchet'>"
      ]
     },
     "execution_count": 6,
     "metadata": {},
     "output_type": "execute_result"
    },
    {
     "data": {
      "image/png": "[encoded data removed]",
      "text/plain": [
       "<Figure size 432x288 with 1 Axes>"
      ]
     },
     "metadata": {
      "needs_background": "light"
     },
     "output_type": "display_data"
    },
    {
     "data": {
      "image/png": "[encoded data removed]",
      "text/plain": [
       "<Figure size 432x288 with 1 Axes>"
      ]
     },
     "metadata": {
      "needs_background": "light"
     },
     "output_type": "display_data"
    }
   ],
   "source": [
    "max_daily_injection.plot(x='ratchet',y='mdiq', style='g-')\n",
    "max_daily_withdrawal.plot(x='ratchet',y='mdwq',style='b-')"
   ]
  },
  {
   "cell_type": "code",
   "execution_count": 7,
   "metadata": {},
   "outputs": [
    {
     "name": "stdout",
     "output_type": "stream",
     "text": [
      "Restricted license - for non-production use only - expires 2022-01-13\n"
     ]
    }
   ],
   "source": [
    "m = gp.Model('Gas Storage No Ratchets Daily')\n",
    "# injection / withdrawal quantities\n",
    "I = m.addVars(range(N), vtype=GRB.INTEGER, name='I')\n",
    "W = m.addVars(range(N), vtype=GRB.INTEGER, name='W')\n"
   ]
  },
  {
   "cell_type": "code",
   "execution_count": 8,
   "metadata": {},
   "outputs": [],
   "source": [
    "# number of days in each injection / drawing month\n",
    "days = list( map( lambda x: ((x+pd.DateOffset(months=1))-x).days, df.Contract.apply( lambda x: pd.to_datetime( '1-' + x ))))\n",
    "days[0] = 2\n",
    "days[1] = 2\n",
    "days[2] = 2\n",
    "\n",
    "# number of calendar days in the simulation\n",
    "M = sum( days[0:N])\n",
    "\n",
    "prices = list(df.Price)"
   ]
  },
  {
   "cell_type": "code",
   "execution_count": 9,
   "metadata": {},
   "outputs": [],
   "source": [
    "injection_charges=[None]*N\n",
    "total_injection=[None]*N\n",
    "daily_injection=[None]*M\n",
    "\n",
    "# for each injection month\n",
    "for i in range(N):\n",
    "    total_injection[i] = I[i]*10000\n",
    "    injection_charges[i] = -total_injection[i] * prices[i]\n",
    "    \n",
    "for i in range(N):\n",
    "    lb = sum(days[0:i])\n",
    "    ub = sum(days[:i+1])\n",
    "    daily_injection[lb:ub] = [ total_injection[i] / days[i] ] * days[i]\n",
    "\n",
    "withdrawal_credit=[None]*N\n",
    "total_draw=[None]*N\n",
    "daily_draw=[None]*M\n",
    "\n",
    "# for each drawing month\n",
    "for j in range(N):\n",
    "    total_draw[j] = W[j]*10000\n",
    "    withdrawal_credit[j] = total_draw[j] * prices[j]\n",
    "    \n",
    "for i in range(N):\n",
    "    lb = sum(days[0:i])\n",
    "    ub = sum(days[:i+1])\n",
    "    daily_draw[lb:ub]  = [ total_draw[i] / days[i] ] * days[i]\n",
    "\n",
    "daily_storage=[None]*M\n",
    "for i in range(M):\n",
    "    if i == 0:\n",
    "        daily_storage[i] = daily_injection[i] - daily_draw[i]\n",
    "    else:\n",
    "        daily_storage[i] = daily_injection[i] - daily_draw[i] + daily_storage[i-1]"
   ]
  },
  {
   "cell_type": "code",
   "execution_count": 15,
   "metadata": {},
   "outputs": [
    {
     "data": {
      "text/plain": [
       "<gurobi.Constr *Awaiting Model Update*>"
      ]
     },
     "execution_count": 15,
     "metadata": {},
     "output_type": "execute_result"
    }
   ],
   "source": [
    "# target function\n",
    "m.setObjective( gp.quicksum(withdrawal_credit) + gp.quicksum(injection_charges), GRB.MAXIMIZE )\n",
    "\n",
    "# add constraints\n",
    "for i in range(M):\n",
    "    m.addConstr( daily_storage[i] >= 0, f'daily_storage gt 0 for {i}' )\n",
    "    m.addConstr( daily_storage[i] <= max_storage_capacity, f'daily_storage le max for {i}' ) \n",
    "    \n",
    "# storage is empty on day 0\n",
    "m.addConstr( daily_injection[0] <= max_daily_injection.loc[0, 'mdiq'], 'daily_injection 0' )\n",
    "m.addConstr( daily_draw[0] <= max_daily_withdrawal.loc[ 0, 'mdwq'], 'daily draw 0' )\n",
    "\n",
    "for i in range(M-1):\n",
    "    m.addConstr( daily_injection[i+1] <= max_daily_injection.loc[0, 'mdiq'], f'daily_injection {i+1}' )\n",
    "    m.addConstr( daily_draw[i+1] <= max_daily_withdrawal.loc[ 0, 'mdwq'], f'daily draw {i+1}' )\n",
    "\n",
    "# ensure that storage on last day is empty\n",
    "m.addConstr( daily_storage[M-1] == 0, 'storage on last day is empty' )"
   ]
  },
  {
   "cell_type": "code",
   "execution_count": 16,
   "metadata": {},
   "outputs": [
    {
     "name": "stdout",
     "output_type": "stream",
     "text": [
      "Gurobi Optimizer version 9.1.1 build v9.1.1rc0 (linux64)\n",
      "Thread count: 2 physical cores, 4 logical processors, using up to 4 threads\n",
      "Optimize a model with 50 rows, 6 columns and 132 nonzeros\n",
      "Model fingerprint: 0xbfd4d688\n",
      "Variable types: 0 continuous, 6 integer (0 binary)\n",
      "Coefficient statistics:\n",
      "  Matrix range     [5e+03, 1e+04]\n",
      "  Objective range  [3e+04, 3e+04]\n",
      "  Bounds range     [0e+00, 0e+00]\n",
      "  RHS range        [8e+03, 1e+05]\n",
      "\n",
      "Loaded MIP start from previous solve with objective -290\n",
      "\n",
      "Presolve removed 50 rows and 6 columns\n",
      "Presolve time: 0.00s\n",
      "Presolve: All rows and columns removed\n",
      "\n",
      "Explored 0 nodes (0 simplex iterations) in 0.06 seconds\n",
      "Thread count was 1 (of 4 available processors)\n",
      "\n",
      "Solution count 2: 300 \n",
      "\n",
      "Optimal solution found (tolerance 1.00e-04)\n",
      "Best objective 3.000000000000e+02, best bound 3.000000000000e+02, gap 0.0000%\n"
     ]
    }
   ],
   "source": [
    "m.optimize()"
   ]
  },
  {
   "cell_type": "code",
   "execution_count": 19,
   "metadata": {},
   "outputs": [
    {
     "data": {
      "text/plain": [
       "[<gurobi.Var I[0] (value -0.0)>,\n",
       " <gurobi.Var I[1] (value 1.0)>,\n",
       " <gurobi.Var I[2] (value 0.0)>,\n",
       " <gurobi.Var W[0] (value -0.0)>,\n",
       " <gurobi.Var W[1] (value -0.0)>,\n",
       " <gurobi.Var W[2] (value 1.0)>]"
      ]
     },
     "execution_count": 19,
     "metadata": {},
     "output_type": "execute_result"
    }
   ],
   "source": [
    "m.getVars()"
   ]
  },
  {
   "cell_type": "code",
   "execution_count": 25,
   "metadata": {},
   "outputs": [],
   "source": [
    "dfres = pd.DataFrame( [ x.getValue() for x in daily_storage ], columns=['daily_storage'] )"
   ]
  },
  {
   "cell_type": "code",
   "execution_count": 26,
   "metadata": {},
   "outputs": [
    {
     "data": {
      "text/plain": [
       "<AxesSubplot:>"
      ]
     },
     "execution_count": 26,
     "metadata": {},
     "output_type": "execute_result"
    },
    {
     "data": {
      "image/png": "[encoded data removed]",
      "text/plain": [
       "<Figure size 432x288 with 1 Axes>"
      ]
     },
     "metadata": {
      "needs_background": "light"
     },
     "output_type": "display_data"
    }
   ],
   "source": [
    "dfres.plot()"
   ]
  },
  {
   "cell_type": "code",
   "execution_count": null,
   "metadata": {},
   "outputs": [],
   "source": []
  }
 ],
 "metadata": {
  "kernelspec": {
   "display_name": "Python 3",
   "language": "python",
   "name": "python3"
  },
  "language_info": {
   "codemirror_mode": {
    "name": "ipython",
    "version": 3
   },
   "file_extension": ".py",
   "mimetype": "text/x-python",
   "name": "python",
   "nbconvert_exporter": "python",
   "pygments_lexer": "ipython3",
   "version": "3.8.6"
  }
 },
 "nbformat": 4,
 "nbformat_minor": 4
}
