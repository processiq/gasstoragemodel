{
 "cells": [
  {
   "cell_type": "code",
   "execution_count": 1,
   "metadata": {},
   "outputs": [],
   "source": [
    "import matplotlib.pyplot as plt\n",
    "import pandas as pd\n",
    "import pulp"
   ]
  },
  {
   "cell_type": "code",
   "execution_count": 2,
   "metadata": {},
   "outputs": [],
   "source": [
    "curve = [\n",
    "    \"Apr'21\", 2.921,\n",
    "    \"May'21\", 2.892,\n",
    "    \"Jun'21\", 2.922,\n",
    "    \"Jul'21\", 2.96,\n",
    "    \"Aug'21\", 2.974,\n",
    "    \"Sep'21\", 2.966,\n",
    "    \"Oct'21\", 3.007,\n",
    "    \"Nov'21\", 3.07,\n",
    "    \"Dec'21\", 3.203,\n",
    "    \"Jan'22\", 3.294,\n",
    "    \"Feb'22\", 3.216,\n",
    "    \"Mar'22\", 3.03,\n",
    "    \"Apr'22\", 2.568,\n",
    "    \"May'22\", 2.48,\n",
    "    \"Jun'22\", 2.525,\n",
    "    \"Jul'22\", 2.562,\n",
    "    \"Aug'22\", 2.57,\n",
    "    \"Sep'22\", 2.559,\n",
    "    \"Oct'22\", 2.592,\n",
    "    \"Nov'22\", 2.681,\n",
    "    \"Dec'22\", 2.87,\n",
    "    \"Jan'23\", 2.987,\n",
    "    \"Feb'23\", 2.939,\n",
    "    \"Mar'23\", 2.779,\n",
    "    \"Apr'23\", 2.388\n",
    "]"
   ]
  },
  {
   "cell_type": "code",
   "execution_count": 3,
   "metadata": {},
   "outputs": [],
   "source": [
    "df = pd.DataFrame( data={ 'Contract': curve[0::2], 'Price': curve[1::2]})"
   ]
  },
  {
   "cell_type": "code",
   "execution_count": 4,
   "metadata": {},
   "outputs": [
    {
     "data": {
      "text/plain": [
       "<AxesSubplot:xlabel='Contract'>"
      ]
     },
     "execution_count": 4,
     "metadata": {},
     "output_type": "execute_result"
    },
    {
     "data": {
      "image/png": "[encoded data removed]",
      "text/plain": [
       "<Figure size 432x288 with 1 Axes>"
      ]
     },
     "metadata": {
      "needs_background": "light"
     },
     "output_type": "display_data"
    }
   ],
   "source": [
    "df.plot(x='Contract', y='Price')"
   ]
  },
  {
   "cell_type": "code",
   "execution_count": 5,
   "metadata": {},
   "outputs": [],
   "source": [
    "N=12 # number of months to use\n",
    "max_storage_capacity=100000\n",
    "max_daily_injection=2000\n",
    "max_daily_withdrawal=4000"
   ]
  },
  {
   "cell_type": "code",
   "execution_count": 6,
   "metadata": {},
   "outputs": [],
   "source": [
    "# injection / withdrawal quantities\n",
    "Q=[ [None]*N for _ in range(N) ]\n",
    "for i in range(N):\n",
    "    for j in range(N):\n",
    "        Q[i][j] = pulp.LpVariable(f'V[{i},{j}]', lowBound=0, cat='Integer')"
   ]
  },
  {
   "cell_type": "code",
   "execution_count": 7,
   "metadata": {},
   "outputs": [],
   "source": [
    "# number of days in each injection / drawing month\n",
    "days = list( map( lambda x: ((x+pd.DateOffset(months=1))-x).days, df.Contract.apply( lambda x: pd.to_datetime( '1-' + x ))))\n",
    "prices = list(df.Price)"
   ]
  },
  {
   "cell_type": "code",
   "execution_count": 8,
   "metadata": {},
   "outputs": [],
   "source": [
    "injection_charges=[None]*N\n",
    "total_injection=[None]*N\n",
    "daily_injection=[None]*N\n",
    "\n",
    "# for each injection month\n",
    "for i in range(N):\n",
    "    total_injection[i] = pulp.lpSum([Q[i][j] for j in range(N)])*10000\n",
    "    injection_charges[i] = -total_injection[i] * prices[i]\n",
    "    daily_injection[i] = total_injection[i] / days[i]\n",
    "\n",
    "withdrawal_credit=[None]*N\n",
    "total_draw=[None]*N\n",
    "daily_draw=[None]*N\n",
    "\n",
    "# for each drawing month\n",
    "for j in range(N):\n",
    "    total_draw[j] = pulp.lpSum([Q[i][j] for i in range(N)])*10000\n",
    "    withdrawal_credit[j] = total_draw[j] * prices[j]\n",
    "    daily_draw[j] = total_draw[j] / days[j]\n",
    "\n",
    "total_storage=[None]*N\n",
    "for i in range(N):\n",
    "    if i == 0:\n",
    "        total_storage[i] = total_injection[i] - total_draw[i]\n",
    "    else:\n",
    "        total_storage[i] = total_injection[i] - total_draw[i] + total_storage[i-1]"
   ]
  },
  {
   "cell_type": "code",
   "execution_count": 9,
   "metadata": {},
   "outputs": [],
   "source": [
    "storage_value_lp = pulp.LpProblem(\"NoRatchets\", pulp.LpMaximize)\n",
    "\n",
    "# target function\n",
    "storage_value_lp += pulp.lpSum(withdrawal_credit) + pulp.lpSum(injection_charges)\n",
    "\n",
    "# add constraints\n",
    "for i in range(N):\n",
    "    storage_value_lp += total_storage[i] >= 0\n",
    "    storage_value_lp += total_storage[i] <= max_storage_capacity\n",
    "    storage_value_lp += daily_injection[i] <= max_daily_injection\n",
    "    storage_value_lp += daily_draw[i] <= max_daily_withdrawal\n",
    "    "
   ]
  },
  {
   "cell_type": "code",
   "execution_count": 10,
   "metadata": {},
   "outputs": [
    {
     "data": {
      "text/plain": [
       "'Optimal'"
      ]
     },
     "execution_count": 10,
     "metadata": {},
     "output_type": "execute_result"
    }
   ],
   "source": [
    "storage_value_lp.solve()\n",
    "pulp.LpStatus[storage_value_lp.status]"
   ]
  },
  {
   "cell_type": "code",
   "execution_count": 11,
   "metadata": {},
   "outputs": [
    {
     "name": "stdout",
     "output_type": "stream",
     "text": [
      "V_0,4_ = 6.0\n",
      "V_1,7_ = 6.0\n",
      "V_10,11_ = 5.0\n",
      "V_11,10_ = 5.0\n",
      "V_5,8_ = 6.0\n",
      "V_7,9_ = 6.0\n",
      "V_8,9_ = 6.0\n",
      "V_9,0_ = 2.0\n"
     ]
    }
   ],
   "source": [
    "for variable in storage_value_lp.variables():\n",
    "    if variable.varValue != 0.0:\n",
    "        print( \"{} = {}\".format(variable.name, variable.varValue) )"
   ]
  },
  {
   "cell_type": "code",
   "execution_count": 12,
   "metadata": {},
   "outputs": [
    {
     "name": "stdout",
     "output_type": "stream",
     "text": [
      "39520.0\n"
     ]
    }
   ],
   "source": [
    "print( pulp.value(storage_value_lp.objective) )"
   ]
  },
  {
   "cell_type": "code",
   "execution_count": 26,
   "metadata": {},
   "outputs": [],
   "source": [
    "df[ 'Gas in Storge' ] = 0\n",
    "df.loc[ range(N), 'Gas in Storge' ] = list(map(lambda x: pulp.value(x), total_storage))"
   ]
  },
  {
   "cell_type": "code",
   "execution_count": 47,
   "metadata": {},
   "outputs": [
    {
     "data": {
      "text/plain": [
       "<matplotlib.legend.Legend at 0x7fa87a38c0f0>"
      ]
     },
     "execution_count": 47,
     "metadata": {},
     "output_type": "execute_result"
    },
    {
     "data": {
      "image/png": "[encoded data removed]",
      "text/plain": [
       "<Figure size 432x288 with 2 Axes>"
      ]
     },
     "metadata": {
      "needs_background": "light"
     },
     "output_type": "display_data"
    }
   ],
   "source": [
    "fig, ax = plt.subplots()\n",
    "ax3 = ax.twinx()\n",
    "rspine = ax3.spines['right']\n",
    "rspine.set_position(('axes', 1.05))\n",
    "ax3.set_frame_on(True)\n",
    "ax3.patch.set_visible(False)\n",
    "fig.subplots_adjust(right=1.7)\n",
    "\n",
    "df.loc[0:N].Price.plot(ax=ax, style='b-')\n",
    "df.loc[0:N]['Gas in Storge'].plot(ax=ax3, style='g-')\n",
    "\n",
    "ax3.legend([ax.get_lines()[0], ax3.get_lines()[0]], ['Price','Gas in Storage'], bbox_to_anchor=(1.35, 0.5))"
   ]
  },
  {
   "cell_type": "code",
   "execution_count": null,
   "metadata": {},
   "outputs": [],
   "source": []
  }
 ],
 "metadata": {
  "kernelspec": {
   "display_name": "Python 3",
   "language": "python",
   "name": "python3"
  },
  "language_info": {
   "codemirror_mode": {
    "name": "ipython",
    "version": 3
   },
   "file_extension": ".py",
   "mimetype": "text/x-python",
   "name": "python",
   "nbconvert_exporter": "python",
   "pygments_lexer": "ipython3",
   "version": "3.6.9"
  }
 },
 "nbformat": 4,
 "nbformat_minor": 4
}
