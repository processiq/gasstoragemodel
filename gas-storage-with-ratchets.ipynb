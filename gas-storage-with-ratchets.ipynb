{
 "cells": [
  {
   "cell_type": "code",
   "execution_count": 1,
   "metadata": {},
   "outputs": [],
   "source": [
    "import matplotlib.pyplot as plt\n",
    "import pandas as pd\n",
    "import pulp"
   ]
  },
  {
   "cell_type": "code",
   "execution_count": 2,
   "metadata": {},
   "outputs": [],
   "source": [
    "curve = [\n",
    "    \"Apr'21\", 2.921,\n",
    "    \"May'21\", 2.892,\n",
    "    \"Jun'21\", 2.922,\n",
    "    \"Jul'21\", 2.96,\n",
    "    \"Aug'21\", 2.974,\n",
    "    \"Sep'21\", 2.966,\n",
    "    \"Oct'21\", 3.007,\n",
    "    \"Nov'21\", 3.07,\n",
    "    \"Dec'21\", 3.203,\n",
    "    \"Jan'22\", 3.294,\n",
    "    \"Feb'22\", 3.216,\n",
    "    \"Mar'22\", 3.03,\n",
    "    \"Apr'22\", 2.568,\n",
    "    \"May'22\", 2.48,\n",
    "    \"Jun'22\", 2.525,\n",
    "    \"Jul'22\", 2.562,\n",
    "    \"Aug'22\", 2.57,\n",
    "    \"Sep'22\", 2.559,\n",
    "    \"Oct'22\", 2.592,\n",
    "    \"Nov'22\", 2.681,\n",
    "    \"Dec'22\", 2.87,\n",
    "    \"Jan'23\", 2.987,\n",
    "    \"Feb'23\", 2.939,\n",
    "    \"Mar'23\", 2.779,\n",
    "    \"Apr'23\", 2.388\n",
    "]"
   ]
  },
  {
   "cell_type": "code",
   "execution_count": 3,
   "metadata": {},
   "outputs": [],
   "source": [
    "df = pd.DataFrame( data={ 'Contract': curve[0::2], 'Price': curve[1::2]})"
   ]
  },
  {
   "cell_type": "code",
   "execution_count": 4,
   "metadata": {},
   "outputs": [
    {
     "data": {
      "text/plain": [
       "<AxesSubplot:xlabel='Contract'>"
      ]
     },
     "execution_count": 4,
     "metadata": {},
     "output_type": "execute_result"
    },
    {
     "data": {
      "image/png": "[encoded data removed]",
      "text/plain": [
       "<Figure size 432x288 with 1 Axes>"
      ]
     },
     "metadata": {
      "needs_background": "light"
     },
     "output_type": "display_data"
    }
   ],
   "source": [
    "df.plot(x='Contract', y='Price')"
   ]
  },
  {
   "cell_type": "code",
   "execution_count": 23,
   "metadata": {},
   "outputs": [],
   "source": [
    "N=3 # number of months to use\n",
    "max_storage_capacity=100000\n",
    "max_daily_injection=pd.DataFrame(data=[(-0.01,8000),(0.5,8000),(1.01,8000)], columns=['ratchet', 'mdiq'] )\n",
    "max_daily_withdrawal=pd.DataFrame( data=[(-0.01,9000),(0.5,9000),(1.01,9000)], columns=['ratchet', 'mdwq'] )"
   ]
  },
  {
   "cell_type": "code",
   "execution_count": 24,
   "metadata": {},
   "outputs": [
    {
     "data": {
      "text/plain": [
       "<AxesSubplot:xlabel='ratchet'>"
      ]
     },
     "execution_count": 24,
     "metadata": {},
     "output_type": "execute_result"
    },
    {
     "data": {
      "image/png": "[encoded data removed]",
      "text/plain": [
       "<Figure size 432x288 with 1 Axes>"
      ]
     },
     "metadata": {
      "needs_background": "light"
     },
     "output_type": "display_data"
    },
    {
     "data": {
      "image/png": "[encoded data removed]",
      "text/plain": [
       "<Figure size 432x288 with 1 Axes>"
      ]
     },
     "metadata": {
      "needs_background": "light"
     },
     "output_type": "display_data"
    }
   ],
   "source": [
    "max_daily_injection.plot(x='ratchet',y='mdiq', style='g-', )\n",
    "max_daily_withdrawal.plot(x='ratchet',y='mdwq',style='b-')"
   ]
  },
  {
   "cell_type": "code",
   "execution_count": 25,
   "metadata": {},
   "outputs": [],
   "source": [
    "# injection / withdrawal quantities\n",
    "I=[None]*N\n",
    "W=[None]*N\n",
    "for i in range(N):\n",
    "    I[i] = pulp.LpVariable(f'I_{i}', lowBound=0, cat='Integer')\n",
    "    W[i] = pulp.LpVariable(f'W_{i}', lowBound=0, cat='Integer')"
   ]
  },
  {
   "cell_type": "code",
   "execution_count": 26,
   "metadata": {},
   "outputs": [],
   "source": [
    "# number of days in each injection / drawing month\n",
    "days = list( map( lambda x: ((x+pd.DateOffset(months=1))-x).days, df.Contract.apply( lambda x: pd.to_datetime( '1-' + x ))))\n",
    "days[0] = 2\n",
    "days[1] = 2\n",
    "days[2] = 2\n",
    "\n",
    "# number of calendar days in the simulation\n",
    "M = sum( days[0:N])\n",
    "\n",
    "prices = list(df.Price)"
   ]
  },
  {
   "cell_type": "code",
   "execution_count": 27,
   "metadata": {},
   "outputs": [],
   "source": [
    "injection_charges=[None]*N\n",
    "total_injection=[None]*N\n",
    "daily_injection=[None]*M\n",
    "\n",
    "# for each injection month\n",
    "for i in range(N):\n",
    "    total_injection[i] = I[i]*10000\n",
    "    injection_charges[i] = -total_injection[i] * prices[i]\n",
    "    \n",
    "for i in range(N):\n",
    "    lb = sum(days[0:i])\n",
    "    ub = sum(days[:i+1])\n",
    "    daily_injection[lb:ub] = [ total_injection[i] / days[i] ] * days[i]\n",
    "\n",
    "withdrawal_credit=[None]*N\n",
    "total_draw=[None]*N\n",
    "daily_draw=[None]*M\n",
    "\n",
    "# for each drawing month\n",
    "for j in range(N):\n",
    "    total_draw[j] = W[j]*10000\n",
    "    withdrawal_credit[j] = total_draw[j] * prices[j]\n",
    "    \n",
    "for i in range(N):\n",
    "    lb = sum(days[0:i])\n",
    "    ub = sum(days[:i+1])\n",
    "    daily_draw[lb:ub]  = [ total_draw[i] / days[i] ] * days[i]\n",
    "\n",
    "daily_storage=[None]*M\n",
    "for i in range(M):\n",
    "    if i == 0:\n",
    "        daily_storage[i] = daily_injection[i] - daily_draw[i]\n",
    "    else:\n",
    "        daily_storage[i] = daily_injection[i] - daily_draw[i] + daily_storage[i-1]"
   ]
  },
  {
   "cell_type": "code",
   "execution_count": 28,
   "metadata": {},
   "outputs": [],
   "source": [
    "# ratchet range control variables \n",
    "injection_range = [[None] * 2 for _ in range(M-1)]\n",
    "withdrawal_range = [[None] * 2 for _ in range(M-1)]\n",
    "\n",
    "for i in range(0,M-1):\n",
    "    for j in range(max_daily_injection.shape[0]-1):\n",
    "        injection_range[i][j] = pulp.LpVariable(f'ic_{i+1}_{j}', cat='Binary')\n",
    "\n",
    "    for j in range(max_daily_withdrawal.shape[0]-1):\n",
    "        withdrawal_range[i][j] = pulp.LpVariable(f'wc_{i+1}_{j}', cat='Binary')"
   ]
  },
  {
   "cell_type": "code",
   "execution_count": 101,
   "metadata": {},
   "outputs": [],
   "source": [
    "m = pulp.LpProblem(\"WithRatchetsDaily\", pulp.LpMaximize)\n",
    "\n",
    "# target function\n",
    "m += pulp.lpSum(withdrawal_credit) + pulp.lpSum(injection_charges)\n",
    "\n",
    "# add constraints\n",
    "for i in range(M):\n",
    "    m += daily_storage[i] >= 0\n",
    "    m += daily_storage[i] <= max_storage_capacity\n",
    "\n",
    "# storage is empty on day 0\n",
    "m += daily_injection[0] <= max_daily_injection.loc[0, 'mdiq']\n",
    "m += daily_draw[0] <= max_daily_withdrawal.loc[ 0, 'mdwq']\n",
    "\n",
    "# ratchet control\n",
    "for i in range(M-1):\n",
    "\n",
    "    # injection\n",
    "    # only one range is allowed\n",
    "    m += pulp.lpSum( injection_range[i] ) == 1\n",
    "\n",
    "    # first range\n",
    "    m += injection_range[i][0] * max_daily_injection.loc[0,'ratchet'] <=  daily_storage[i] / max_storage_capacity\n",
    "    m += injection_range[i][0] * max_daily_injection.loc[1,'ratchet'] >=  daily_storage[i] / max_storage_capacity\n",
    "\n",
    "    # second range\n",
    "    m += injection_range[i][1] * max_daily_injection.loc[1,'ratchet'] <=  daily_storage[i] / max_storage_capacity\n",
    "    if i == 1:\n",
    "        m += injection_range[i][1] * max_daily_injection.loc[2,'ratchet'] >=  daily_storage[i] / max_storage_capacity\n",
    "    \n",
    "    # daily rate constraint\n",
    "#    m += daily_injection[i+1] <= injection_range[i][0] * max_daily_injection.loc[1,'mdiq'] + \\\n",
    "#        injection_range[i][1] * max_daily_injection.loc[2,'mdiq']\n",
    "    \n",
    "    # withdrawal\n",
    "    # only one range is allowed\n",
    "#    m += pulp.lpSum( withdrawal_range[i] ) == 1\n",
    "\n",
    "    # first range\n",
    "#    m += withdrawal_range[i][0] * max_daily_withdrawal.loc[0,'ratchet'] <=  daily_storage[i] / max_storage_capacity\n",
    "#    m += daily_storage[i] / max_storage_capacity <= withdrawal_range[i][0] * max_daily_withdrawal.loc[1,'ratchet']\n",
    "\n",
    "    # second range\n",
    "#    m += withdrawal_range[i][1] * max_daily_withdrawal.loc[1,'ratchet'] <=  daily_storage[i] / max_storage_capacity\n",
    "#    m += daily_storage[i] / max_storage_capacity <= withdrawal_range[i][1] * max_daily_withdrawal.loc[2,'ratchet']\n",
    "    \n",
    "    # daily rate constraint\n",
    "#    m += daily_draw[i+1] <= withdrawal_range[i][0] * max_daily_withdrawal.loc[1,'mdwq'] + \\\n",
    "#        withdrawal_range[i][1] * max_daily_withdrawal.loc[2,'mdwq']\n",
    "\n",
    "    m += daily_injection[i+1] <= max_daily_injection.loc[0, 'mdiq']\n",
    "    m += daily_draw[i+1] <= max_daily_withdrawal.loc[ 0, 'mdwq']\n",
    "\n",
    "\n",
    "# ensure that storage on last day is empty\n",
    "m += daily_storage[M-1] == 0"
   ]
  },
  {
   "cell_type": "code",
   "execution_count": 102,
   "metadata": {},
   "outputs": [
    {
     "data": {
      "text/plain": [
       "['PULP_CBC_CMD', 'PULP_CHOCO_CMD']"
      ]
     },
     "execution_count": 102,
     "metadata": {},
     "output_type": "execute_result"
    }
   ],
   "source": [
    "pulp.listSolvers(onlyAvailable=True)"
   ]
  },
  {
   "cell_type": "code",
   "execution_count": 103,
   "metadata": {},
   "outputs": [
    {
     "data": {
      "text/plain": [
       "'Optimal'"
      ]
     },
     "execution_count": 103,
     "metadata": {},
     "output_type": "execute_result"
    }
   ],
   "source": [
    "solver = pulp.getSolver('PULP_CHOCO_CMD')\n",
    "m.solve(solver)\n",
    "pulp.LpStatus[m.status]"
   ]
  },
  {
   "cell_type": "code",
   "execution_count": 104,
   "metadata": {},
   "outputs": [
    {
     "name": "stdout",
     "output_type": "stream",
     "text": [
      "300.0\n"
     ]
    }
   ],
   "source": [
    "print( pulp.value(m.objective) )"
   ]
  },
  {
   "cell_type": "code",
   "execution_count": 105,
   "metadata": {
    "scrolled": true
   },
   "outputs": [
    {
     "name": "stdout",
     "output_type": "stream",
     "text": [
      "I_0 = 0.0\n",
      "I_1 = 1.0\n",
      "I_2 = 0.0\n",
      "W_0 = 0.0\n",
      "W_1 = 0.0\n",
      "W_2 = 1.0\n",
      "ic_1_0 = 1.0\n",
      "ic_1_1 = 0.0\n",
      "ic_2_0 = 1.0\n",
      "ic_2_1 = 0.0\n",
      "ic_3_0 = 1.0\n",
      "ic_3_1 = 0.0\n",
      "ic_4_0 = 1.0\n",
      "ic_4_1 = 0.0\n",
      "ic_5_0 = 1.0\n",
      "ic_5_1 = 0.0\n"
     ]
    }
   ],
   "source": [
    "for variable in m.variables():\n",
    "#    if variable.varValue != 0.0:\n",
    "        print( \"{} = {}\".format(variable.name, variable.varValue) )"
   ]
  },
  {
   "cell_type": "code",
   "execution_count": 100,
   "metadata": {},
   "outputs": [],
   "source": [
    "df_result = pd.DataFrame( data={\n",
    "    'gas_in_storage': map(lambda x: pulp.value(x) / max_storage_capacity, daily_storage),\n",
    "    'daily_injection': map(lambda x: pulp.value(x), daily_injection),\n",
    "    'daily_draw': map(lambda x: pulp.value(x), daily_draw),\n",
    "})\n"
   ]
  },
  {
   "cell_type": "code",
   "execution_count": 57,
   "metadata": {},
   "outputs": [
    {
     "data": {
      "text/plain": [
       "<matplotlib.legend.Legend at 0x7fa05a17ce10>"
      ]
     },
     "execution_count": 57,
     "metadata": {},
     "output_type": "execute_result"
    },
    {
     "data": {
      "image/png": "[encoded data removed]",
      "text/plain": [
       "<Figure size 432x288 with 2 Axes>"
      ]
     },
     "metadata": {
      "needs_background": "light"
     },
     "output_type": "display_data"
    }
   ],
   "source": [
    "fig, ax = plt.subplots()\n",
    "ax3 = ax.twinx()\n",
    "rspine = ax3.spines['right']\n",
    "rspine.set_position(('axes', 1.05))\n",
    "ax3.set_frame_on(True)\n",
    "ax3.patch.set_visible(False)\n",
    "fig.subplots_adjust(right=1.7)\n",
    "\n",
    "df_result['gas_in_storage'].plot(ax=ax, style='b-')\n",
    "df_result['daily_injection'].plot(ax=ax3, style='g-')\n",
    "df_result['daily_draw'].plot(ax=ax3, style='r-')\n",
    "\n",
    "ax3.legend([ax.get_lines()[0], ax3.get_lines()[0], ax3.get_lines()[1]], ['gas_in_storage','daily_injection', 'daily_draw'], bbox_to_anchor=(1.35, 0.5))"
   ]
  },
  {
   "cell_type": "code",
   "execution_count": 17,
   "metadata": {},
   "outputs": [
    {
     "data": {
      "text/plain": [
       "[0.0, 0.0, 0.0, 0.0, 0.0, 0.0]"
      ]
     },
     "execution_count": 17,
     "metadata": {},
     "output_type": "execute_result"
    }
   ],
   "source": [
    "list(map(lambda x: pulp.value(x) / max_storage_capacity, daily_storage))"
   ]
  },
  {
   "cell_type": "code",
   "execution_count": 18,
   "metadata": {},
   "outputs": [
    {
     "data": {
      "text/plain": [
       "1.0"
      ]
     },
     "execution_count": 18,
     "metadata": {},
     "output_type": "execute_result"
    }
   ],
   "source": [
    "pulp.value(injection_range[0][0]) + pulp.value(injection_range[0][1])"
   ]
  },
  {
   "cell_type": "code",
   "execution_count": 19,
   "metadata": {},
   "outputs": [
    {
     "data": {
      "text/plain": [
       "0.5"
      ]
     },
     "execution_count": 19,
     "metadata": {},
     "output_type": "execute_result"
    }
   ],
   "source": [
    "max_daily_injection.loc[1,'ratchet']"
   ]
  },
  {
   "cell_type": "code",
   "execution_count": 20,
   "metadata": {},
   "outputs": [
    {
     "data": {
      "text/plain": [
       "[0.5, 0.5, 0.5, 0.5, 0.5]"
      ]
     },
     "execution_count": 20,
     "metadata": {},
     "output_type": "execute_result"
    }
   ],
   "source": [
    "[ (pulp.value( injection_range[i][0]) * max_daily_injection.loc[1,'ratchet'] - pulp.value(daily_storage[i]) / max_storage_capacity) for i in range(M-1)]"
   ]
  },
  {
   "cell_type": "code",
   "execution_count": 33,
   "metadata": {},
   "outputs": [
    {
     "data": {
      "text/plain": [
       "WithRatchetsDaily:\n",
       "MAXIMIZE\n",
       "-29210.0*I_0 + -28920.0*I_1 + -29220.0*I_2 + 29210.0*W_0 + 28920.0*W_1 + 29220.0*W_2 + 0.0\n",
       "SUBJECT TO\n",
       "_C1: 5000 I_0 - 5000 W_0 >= 0\n",
       "\n",
       "_C2: 5000 I_0 - 5000 W_0 <= 100000\n",
       "\n",
       "_C3: 10000 I_0 - 10000 W_0 >= 0\n",
       "\n",
       "_C4: 10000 I_0 - 10000 W_0 <= 100000\n",
       "\n",
       "_C5: 10000 I_0 + 5000 I_1 - 10000 W_0 - 5000 W_1 >= 0\n",
       "\n",
       "_C6: 10000 I_0 + 5000 I_1 - 10000 W_0 - 5000 W_1 <= 100000\n",
       "\n",
       "_C7: 10000 I_0 + 10000 I_1 - 10000 W_0 - 10000 W_1 >= 0\n",
       "\n",
       "_C8: 10000 I_0 + 10000 I_1 - 10000 W_0 - 10000 W_1 <= 100000\n",
       "\n",
       "_C9: 10000 I_0 + 10000 I_1 + 5000 I_2 - 10000 W_0 - 10000 W_1 - 5000 W_2 >= 0\n",
       "\n",
       "_C10: 10000 I_0 + 10000 I_1 + 5000 I_2 - 10000 W_0 - 10000 W_1 - 5000 W_2\n",
       " <= 100000\n",
       "\n",
       "_C11: 10000 I_0 + 10000 I_1 + 10000 I_2 - 10000 W_0 - 10000 W_1 - 10000 W_2\n",
       " >= 0\n",
       "\n",
       "_C12: 10000 I_0 + 10000 I_1 + 10000 I_2 - 10000 W_0 - 10000 W_1 - 10000 W_2\n",
       " <= 100000\n",
       "\n",
       "_C13: 5000 I_0 <= 8000\n",
       "\n",
       "_C14: 5000 W_0 <= 9000\n",
       "\n",
       "_C15: ic_1_0 + ic_1_1 = 1\n",
       "\n",
       "_C16: - 0.05 I_0 + 0.05 W_0 - 0.01 ic_1_0 <= 0\n",
       "\n",
       "_C17: - 0.05 I_0 + 0.05 W_0 + 0.5 ic_1_0 >= 0\n",
       "\n",
       "_C18: - 0.05 I_0 + 0.05 W_0 + 0.5 ic_1_1 <= 0\n",
       "\n",
       "_C19: - 0.05 I_0 + 0.05 W_0 + 1.01 ic_1_1 >= 0\n",
       "\n",
       "_C20: 5000 I_0 <= 8000\n",
       "\n",
       "_C21: 5000 W_0 <= 9000\n",
       "\n",
       "_C22: ic_2_0 + ic_2_1 = 1\n",
       "\n",
       "_C23: - 0.1 I_0 + 0.1 W_0 - 0.01 ic_2_0 <= 0\n",
       "\n",
       "_C24: - 0.1 I_0 + 0.1 W_0 + 0.5 ic_2_0 >= 0\n",
       "\n",
       "_C25: - 0.1 I_0 + 0.1 W_0 + 0.5 ic_2_1 <= 0\n",
       "\n",
       "_C26: - 0.1 I_0 + 0.1 W_0 + 1.01 ic_2_1 >= 0\n",
       "\n",
       "_C27: 5000 I_1 <= 8000\n",
       "\n",
       "_C28: 5000 W_1 <= 9000\n",
       "\n",
       "_C29: ic_3_0 + ic_3_1 = 1\n",
       "\n",
       "_C30: - 0.1 I_0 - 0.05 I_1 + 0.1 W_0 + 0.05 W_1 - 0.01 ic_3_0 <= 0\n",
       "\n",
       "_C31: - 0.1 I_0 - 0.05 I_1 + 0.1 W_0 + 0.05 W_1 + 0.5 ic_3_0 >= 0\n",
       "\n",
       "_C32: - 0.1 I_0 - 0.05 I_1 + 0.1 W_0 + 0.05 W_1 + 0.5 ic_3_1 <= 0\n",
       "\n",
       "_C33: - 0.1 I_0 - 0.05 I_1 + 0.1 W_0 + 0.05 W_1 + 1.01 ic_3_1 >= 0\n",
       "\n",
       "_C34: 5000 I_1 <= 8000\n",
       "\n",
       "_C35: 5000 W_1 <= 9000\n",
       "\n",
       "_C36: ic_4_0 + ic_4_1 = 1\n",
       "\n",
       "_C37: - 0.1 I_0 - 0.1 I_1 + 0.1 W_0 + 0.1 W_1 - 0.01 ic_4_0 <= 0\n",
       "\n",
       "_C38: - 0.1 I_0 - 0.1 I_1 + 0.1 W_0 + 0.1 W_1 + 0.5 ic_4_0 >= 0\n",
       "\n",
       "_C39: - 0.1 I_0 - 0.1 I_1 + 0.1 W_0 + 0.1 W_1 + 0.5 ic_4_1 <= 0\n",
       "\n",
       "_C40: - 0.1 I_0 - 0.1 I_1 + 0.1 W_0 + 0.1 W_1 + 1.01 ic_4_1 >= 0\n",
       "\n",
       "_C41: 5000 I_2 <= 8000\n",
       "\n",
       "_C42: 5000 W_2 <= 9000\n",
       "\n",
       "_C43: ic_5_0 + ic_5_1 = 1\n",
       "\n",
       "_C44: - 0.1 I_0 - 0.1 I_1 - 0.05 I_2 + 0.1 W_0 + 0.1 W_1 + 0.05 W_2\n",
       " - 0.01 ic_5_0 <= 0\n",
       "\n",
       "_C45: - 0.1 I_0 - 0.1 I_1 - 0.05 I_2 + 0.1 W_0 + 0.1 W_1 + 0.05 W_2\n",
       " + 0.5 ic_5_0 >= 0\n",
       "\n",
       "_C46: - 0.1 I_0 - 0.1 I_1 - 0.05 I_2 + 0.1 W_0 + 0.1 W_1 + 0.05 W_2\n",
       " + 0.5 ic_5_1 <= 0\n",
       "\n",
       "_C47: - 0.1 I_0 - 0.1 I_1 - 0.05 I_2 + 0.1 W_0 + 0.1 W_1 + 0.05 W_2\n",
       " + 1.01 ic_5_1 >= 0\n",
       "\n",
       "_C48: 5000 I_2 <= 8000\n",
       "\n",
       "_C49: 5000 W_2 <= 9000\n",
       "\n",
       "_C50: 10000 I_0 + 10000 I_1 + 10000 I_2 - 10000 W_0 - 10000 W_1 - 10000 W_2\n",
       " = 0\n",
       "\n",
       "VARIABLES\n",
       "0 <= I_0 Integer\n",
       "0 <= I_1 Integer\n",
       "0 <= I_2 Integer\n",
       "0 <= W_0 Integer\n",
       "0 <= W_1 Integer\n",
       "0 <= W_2 Integer\n",
       "0 <= ic_1_0 <= 1 Integer\n",
       "0 <= ic_1_1 <= 1 Integer\n",
       "0 <= ic_2_0 <= 1 Integer\n",
       "0 <= ic_2_1 <= 1 Integer\n",
       "0 <= ic_3_0 <= 1 Integer\n",
       "0 <= ic_3_1 <= 1 Integer\n",
       "0 <= ic_4_0 <= 1 Integer\n",
       "0 <= ic_4_1 <= 1 Integer\n",
       "0 <= ic_5_0 <= 1 Integer\n",
       "0 <= ic_5_1 <= 1 Integer"
      ]
     },
     "execution_count": 33,
     "metadata": {},
     "output_type": "execute_result"
    }
   ],
   "source": [
    "m"
   ]
  },
  {
   "cell_type": "code",
   "execution_count": 22,
   "metadata": {},
   "outputs": [
    {
     "data": {
      "text/plain": [
       "6"
      ]
     },
     "execution_count": 22,
     "metadata": {},
     "output_type": "execute_result"
    }
   ],
   "source": [
    "M"
   ]
  },
  {
   "cell_type": "code",
   "execution_count": 50,
   "metadata": {},
   "outputs": [
    {
     "data": {
      "text/plain": [
       "0.5"
      ]
     },
     "execution_count": 50,
     "metadata": {},
     "output_type": "execute_result"
    }
   ],
   "source": [
    "max_daily_injection.loc[1,'ratchet']"
   ]
  },
  {
   "cell_type": "code",
   "execution_count": 51,
   "metadata": {},
   "outputs": [
    {
     "data": {
      "text/plain": [
       "1.01"
      ]
     },
     "execution_count": 51,
     "metadata": {},
     "output_type": "execute_result"
    }
   ],
   "source": [
    "max_daily_injection.loc[2,'ratchet']"
   ]
  },
  {
   "cell_type": "code",
   "execution_count": null,
   "metadata": {},
   "outputs": [],
   "source": []
  }
 ],
 "metadata": {
  "kernelspec": {
   "display_name": "Python 3",
   "language": "python",
   "name": "python3"
  },
  "language_info": {
   "codemirror_mode": {
    "name": "ipython",
    "version": 3
   },
   "file_extension": ".py",
   "mimetype": "text/x-python",
   "name": "python",
   "nbconvert_exporter": "python",
   "pygments_lexer": "ipython3",
   "version": "3.6.9"
  }
 },
 "nbformat": 4,
 "nbformat_minor": 4
}
